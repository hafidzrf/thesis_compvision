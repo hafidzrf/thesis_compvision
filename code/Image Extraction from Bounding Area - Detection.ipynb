{
 "cells": [
  {
   "cell_type": "markdown",
   "id": "6d3a2db1",
   "metadata": {},
   "source": [
    "### Library Pemetaan dan Operating System"
   ]
  },
  {
   "cell_type": "code",
   "execution_count": null,
   "id": "a789e018",
   "metadata": {},
   "outputs": [],
   "source": [
    "import os\n",
    "from pathlib import Path\n",
    "from PIL import Image\n",
    "import shutil\n",
    "import pyproj\n",
    "from ultralytics import YOLO\n",
    "\n",
    "import utility_v2"
   ]
  },
  {
   "cell_type": "markdown",
   "id": "c4023adf",
   "metadata": {},
   "source": [
    "### Library Plotting dan Analisis Numerik"
   ]
  },
  {
   "cell_type": "code",
   "execution_count": null,
   "id": "e05fb24e",
   "metadata": {},
   "outputs": [],
   "source": [
    "import pandas as pd\n",
    "import numpy as np\n",
    "import time\n",
    "import random\n",
    "import requests\n",
    "import matplotlib.pyplot as plt\n",
    "import matplotlib.image as mpimg\n",
    "\n",
    "import folium\n",
    "import branca.colormap as cm\n",
    "\n",
    "from shapely.geometry import Polygon\n",
    "from shapely.geometry import Point"
   ]
  },
  {
   "cell_type": "code",
   "execution_count": null,
   "id": "9e30e15c",
   "metadata": {},
   "outputs": [],
   "source": [
    "# padang_shape_path = r'Mapping/boundary/padangboundary.txt'\n",
    "# with open(padang_shape_path, 'r') as file:\n",
    "#     # Read all the lines of the file into a list\n",
    "#     lines = file.readlines()\n",
    "\n",
    "# padang_shape_list = []\n",
    "# # Print the list of lines\n",
    "# for cnt, line in enumerate(lines):\n",
    "#     if(cnt > 0):\n",
    "#         grid = False\n",
    "#         line = line.replace('\\n','').replace(',','.')\n",
    "#         lat, lon = line.split(' ')[1], line.split(' ')[0]\n",
    "#         float_lat, float_lon = float(lat), float(lon)\n",
    "#         if(((float_lat * 1000000) % 5 == 0) and ((float_lon * 1000000) % 5 == 0)):\n",
    "#             grid = True\n",
    "# #             print(float_lat, float_lon)\n",
    "#         if(grid == False):\n",
    "#             padang_shape_list.append([float_lat, float_lon])"
   ]
  },
  {
   "cell_type": "code",
   "execution_count": null,
   "id": "b34d3871",
   "metadata": {},
   "outputs": [],
   "source": [
    "# Pendefinisian Variabel Awal\n",
    "\n",
    "# 1. Bounding Box Area yang akan dianalisa\n",
    "\n",
    "pamulang_poly = Polygon([[-6.323284349631147, 106.70161466324525], [-6.323435986682789, 106.72861871041171], \n",
    "                   [-6.3050875808771965, 106.73105975422338], [-6.304935938452187, 106.74494319090218], \n",
    "                   [-6.339812526277561, 106.74799449566676], [-6.340419054802105, 106.75653814900755],\n",
    "                  [-6.359979216832972, 106.76996388997166], [-6.360282469305901, 106.7177865784975],\n",
    "                  [-6.3385994670884305, 106.6991736194336], [-6.326013809755609, 106.70359801134224]])\n",
    "jakarta_poly = Polygon([[-6.095916216660592, 106.68530340448586], [-6.102061047272174, 106.80477972048222], \n",
    "                       [-6.119812384154859, 106.80958623894185], [-6.113654968705785, 106.8580325812851],\n",
    "                       [-6.09521792837518, 106.87657476117133], [-6.092529140348378, 106.96735418353099],\n",
    "                       [-6.194516408555102, 106.96868377796712], [-6.251776710484931, 106.94406036759005],\n",
    "                       [-6.25654313700135, 106.90364567039597], [-6.363435792037267, 106.90981062420524],\n",
    "                       [-6.339608132221271, 106.84816108611255], [-6.364116566099691, 106.79473148643225],\n",
    "                       [-6.226582020915292, 106.71527208177946], [-6.099228304233594, 106.68787228707161]])\n",
    "padang_poly_rough = Polygon([[-0.8169522943332843, 100.29115393394389],[-0.8071627055897717, 100.2903794814684],\n",
    "                            [-0.7906079369224775, 100.31129280041517],[-0.793221852188435, 100.3208780715991],\n",
    "                            [-0.8193609131427843, 100.33590951959208],[-0.8126083385155769, 100.33743444909862],\n",
    "                            [-0.8263313008188163, 100.35094096758509],[-0.8167470146320907, 100.3622690153479],\n",
    "                            [-0.8792058239140979, 100.41803970354398],[-0.8637185667761207, 100.43081816833393],\n",
    "                            [-0.9190852126116854, 100.4222991918073],[-0.9039853012385667, 100.4559878717081],\n",
    "                            [-0.9152134472615293, 100.47225137465067],[-0.9341850608971407, 100.4648940767413],\n",
    "                            [-0.9365081086306252, 100.49161268493849],[-0.9574154684897493, 100.49006378011546],\n",
    "                            [-1.0046501413142748, 100.3642152630547],[-0.9059211921150548, 100.34175613984918], \n",
    "                            [-0.8493927980701989, 100.32200760192039],[-0.8203539150072587, 100.29064227925412], \n",
    "                            ])\n",
    "padang_city_poly_rough = Polygon([[-0.9642021332463775, 100.35129330887598],[-0.9610346110266733, 100.36681819583903],\n",
    "                                  [-0.9592920789508105, 100.37836409237548],[-0.9774826186930436, 100.38329509849804],\n",
    "                                  [-0.9768268575952576, 100.39080100999477],[-0.9573725577234504, 100.39233134146762],\n",
    "                                  [-0.9291890232625566, 100.37053202735413],[-0.9309495074604052, 100.35005169234938],\n",
    "                                  [-0.9575532632415699, 100.35281420609273],[-0.9637317017819592, 100.35157834468123]\n",
    "                                 ])\n",
    "scbd_1_poly = Polygon([[-6.188488790427083, 106.79748315518809],[-6.18841686338198, 106.81155496598606],\n",
    "                        [-6.2124399515294275, 106.81936861938284],[-6.217906130057853, 106.81227845238885],\n",
    "                        [-6.200536432346643, 106.79806194430626],[-6.189101673193307, 106.79668305284079]])\n",
    "\n",
    "# 2. Directory tempat saving gambar dan csv\n",
    "loc_name = 'Pamulang'\n",
    "output_dirs = r\"C:\\Users\\hafid\\Python Files\\TA & Thesis\\Thesis\\Main Work\\Mapping\\Pamulang 1/\"\n",
    "folium_map_center_lat = -6.350165563406041 \n",
    "folium_map_center_lon = 106.74312574746396"
   ]
  },
  {
   "cell_type": "markdown",
   "id": "88482784",
   "metadata": {},
   "source": [
    "### Eksekusi GSV API Mining"
   ]
  },
  {
   "cell_type": "code",
   "execution_count": null,
   "id": "c7da36d2",
   "metadata": {
    "scrolled": true
   },
   "outputs": [],
   "source": [
    "foto_bangunan = utility_v2.sv_mining(pamulang_poly, loc_name , num_query = 100, \n",
    "          dirs = output_dirs, radius = 50, size = \"640x640\")"
   ]
  },
  {
   "cell_type": "code",
   "execution_count": null,
   "id": "1fbfb742",
   "metadata": {},
   "outputs": [],
   "source": [
    "# Extracting data dari list foto_bangunan menjadi csv yang siap digunakan pada database\n",
    "df = pd.DataFrame(foto_bangunan, columns = ['Index', 'Path', 'Lintang', 'Bujur', 'Tipologi'])\n",
    "df.to_csv(f'{output_dirs}/{loc_name} 120525.csv', index = False)"
   ]
  },
  {
   "cell_type": "markdown",
   "id": "f151eee9",
   "metadata": {},
   "source": [
    "### Calculate distances between epicentrum and each Building Node\n",
    "### Then, calculating hypocentrum with pythagoras formula\n",
    "#### First, we define the earthquake scenarios"
   ]
  },
  {
   "cell_type": "code",
   "execution_count": null,
   "id": "ac09a5b5",
   "metadata": {},
   "outputs": [],
   "source": [
    "# Earthquake Scenario (Padang 2009 EQ)\n",
    "# The list contains ([Scenario_Name, EQ_depth, EQ_MW, EQ_lat, EQ_lon, EQ_type])\n",
    "eq_scenario = []\n",
    "\n",
    "eq_scenario.append(['Padang_2009', 90, 8.1, -0.7071, 99.9678, 'Subduction'])\n",
    "eq_scenario.append(['PadangPanjang_1926', 35, 6.8, -1.5, 99.5, 'Subduction'])\n",
    "eq_scenario.append(['PesisirSelatan_2004', 51, 6, -1.5802, 100.4126, 'Subduction'])\n",
    "eq_scenario.append(['Padang_2010', 20, 7.8, -3.491, 100.082, 'Subduction'])\n",
    "eq_scenario.append(['RedjangLebong_1909', 35, 7.6, -2, 101, 'SumatraFaultZone'])"
   ]
  },
  {
   "cell_type": "code",
   "execution_count": null,
   "id": "4408c3ab",
   "metadata": {
    "scrolled": true
   },
   "outputs": [],
   "source": [
    "df = pd.read_csv(f'{output_dirs}/{loc_name} 210724.csv')"
   ]
  },
  {
   "cell_type": "code",
   "execution_count": null,
   "id": "774b2e50",
   "metadata": {},
   "outputs": [],
   "source": [
    "# Initiate new empty columns for filling\n",
    "df[\"Epicentrum Dist (km)\"], df[\"Hypocentrum Dist (km)\"], df[\"PGA Bedrock (g)\"], df[\"Surface PGA (gal)\"], df[\"MMI\"] = 0.0, 0.0, 0.0, 0.0, 0\n",
    "df[\"Vulnerability_Class\"], df[\"Vulnerability_MMI\"] = \"\",\"\"\n",
    "df[\"D0\"], df[\"D1\"], df[\"D2\"], df[\"D3\"], df[\"D4\"], df[\"D5\"] = 0.0, 0.0, 0.0, 0.0, 0.0, 0.0\n",
    "df[\"total\"], df[\"max_prob\"], df[\"damage_maxprob\"] = 0.0, 0.0, 0.0"
   ]
  },
  {
   "cell_type": "code",
   "execution_count": null,
   "id": "ea8d8483",
   "metadata": {},
   "outputs": [],
   "source": [
    "for i, (building_lat, building_lon, building_typology) in enumerate(zip(df['Lintang'],df['Bujur'],df['Tipologi'])):\n",
    "    az, dist = utility.calc_azimuth_distance(eq_lat, eq_lon, building_lat, building_lon)\n",
    "    dist_km = dist/1000\n",
    "    hypocentrum = (dist_km**2 + eq_depth**2)**0.5\n",
    "    pga = utility_v2.calc_PGA_Young(eq_mw, eq_depth, dist_km, hypocentrum)\n",
    "    surface_pga = utility_v2.calc_PGA_surface(pga)\n",
    "    mmi = np.round(utility_v2.calc_MMI(surface_pga))\n",
    "    \n",
    "    # Filling the content of the main analysis table\n",
    "    df.loc[i, \"Epicentrum Dist (km)\"], df.loc[i, \"Hypocentrum Dist (km)\"] = dist_km, hypocentrum\n",
    "    df.loc[i, \"PGA Bedrock (g)\"], df.loc[i, \"Surface PGA (gal)\"], df.loc[i, \"MMI\"] = pga, surface_pga, mmi\n",
    "    df.loc[i, \"Vulnerability_Class\"] = utility_v2.randomize_building_vulnerability_class(building_typology)\n",
    "    df.loc[i, \"Vulnerability_MMI\"] = df.loc[i, \"Vulnerability_Class\"] + str(df.loc[i, \"MMI\"])\n",
    "    df.loc[i, \"D0\"], df.loc[i, \"D1\"], df.loc[i, \"D2\"], df.loc[i, \"D3\"], df.loc[i, \"D4\"], df.loc[i, \"D5\"] = utility_v2.calculate_dmg_prob(df.loc[i, \"Vulnerability_MMI\"])\n",
    "    df.loc[i, \"total\"] = df.loc[i, \"D0\"] + df.loc[i, \"D1\"] + df.loc[i, \"D2\"] + df.loc[i, \"D3\"] + df.loc[i, \"D4\"] + df.loc[i, \"D5\"]\n",
    "    df.loc[i, \"max_prob\"] = df.loc[i, [\"D0\", \"D1\", \"D2\", \"D3\", \"D4\", \"D5\"]].max()\n",
    "    df.loc[i, \"damage_maxprob\"] = str(df.loc[i, [\"D5\", \"D4\", \"D3\", \"D2\", \"D1\", \"D0\"]].idxmax())"
   ]
  },
  {
   "cell_type": "code",
   "execution_count": null,
   "id": "5ecccf31",
   "metadata": {},
   "outputs": [],
   "source": [
    "df.head()"
   ]
  },
  {
   "cell_type": "code",
   "execution_count": null,
   "id": "5f7745c5",
   "metadata": {},
   "outputs": [],
   "source": [
    "df.to_excel(f'{output_dirs}/{loc_name} 210724 - Analyzed.xlsx', index = False)"
   ]
  },
  {
   "cell_type": "markdown",
   "id": "ec3c6b75",
   "metadata": {},
   "source": [
    "### Mapping with Folium"
   ]
  },
  {
   "cell_type": "code",
   "execution_count": null,
   "id": "007624a3",
   "metadata": {},
   "outputs": [],
   "source": [
    "df = pd.read_excel(f'{output_dirs}/{loc_name} 210724 - Analyzed.xlsx')\n",
    "\n",
    "colormap_D1D5 = cm.LinearColormap(colors=['green','yellow','orange','red'], index=[0, 0.166, 0.33, 0.5],vmin=0,vmax=0.5)\n",
    "maps = folium.Map(location=[folium_map_center_lat, folium_map_center_lon],zoom_start=11, tiles = 'OpenStreetMap')"
   ]
  },
  {
   "cell_type": "code",
   "execution_count": null,
   "id": "69aabde9",
   "metadata": {},
   "outputs": [],
   "source": [
    "folium.Circle(\n",
    "            location=(eq_lat, eq_lon),\n",
    "            radius = 500,\n",
    "            fill=True,\n",
    "            color='red',\n",
    "            fill_opacity=0.4,\n",
    "            popup = f'Epicentrum'\n",
    "        ).add_to(maps)\n",
    "\n",
    "for loc, max_prob, damage_maxprob in zip(zip(df['Lintang'], df['Bujur']), df['max_prob'], df['damage_maxprob']):\n",
    "    print(loc, max_prob, damage_maxprob)\n",
    "    if(damage_maxprob == 'D0'):\n",
    "        folium.Circle(\n",
    "            location=loc,\n",
    "            radius = 120*max_prob,\n",
    "            fill=True,\n",
    "            color='white',\n",
    "            fill_opacity=0.7,\n",
    "            popup = f'{damage_maxprob}, {max_prob*100}% probability'\n",
    "        ).add_to(maps)\n",
    "    elif(damage_maxprob == 'D1'):\n",
    "        folium.Circle(\n",
    "            location=loc,\n",
    "            radius = 120*max_prob,\n",
    "            fill=True,\n",
    "            color='darkgreen',\n",
    "            fill_opacity=0.7,\n",
    "            popup = f'{damage_maxprob}, {max_prob*100}% probability'\n",
    "        ).add_to(maps)\n",
    "    elif(damage_maxprob == 'D2'):\n",
    "        folium.Circle(\n",
    "            location=loc,\n",
    "            radius = 120*max_prob,\n",
    "            fill=True,\n",
    "            color='green',\n",
    "            fill_opacity=0.7,\n",
    "            popup = f'{damage_maxprob}, {max_prob*100}% probability'\n",
    "        ).add_to(maps)\n",
    "    elif(damage_maxprob == 'D3'):\n",
    "        folium.Circle(\n",
    "            location=loc,\n",
    "            radius = 120*max_prob,\n",
    "            fill=True,\n",
    "            color='yellow',\n",
    "            fill_opacity=0.7,\n",
    "            popup = f'{damage_maxprob}, {max_prob*100}% probability'\n",
    "        ).add_to(maps)\n",
    "    elif(damage_maxprob == 'D4'):\n",
    "        folium.Circle(\n",
    "            location=loc,\n",
    "            radius = 120*max_prob,\n",
    "            fill=True,\n",
    "            color='orange',\n",
    "            fill_opacity=0.7,\n",
    "            popup = f'{damage_maxprob}, {max_prob*100}% probability'\n",
    "        ).add_to(maps)\n",
    "    elif(damage_maxprob == 'D5'):\n",
    "        folium.Circle(\n",
    "            location=loc,\n",
    "            radius = 120*max_prob,\n",
    "            fill=True,\n",
    "            color='red',\n",
    "            fill_opacity=0.7,\n",
    "            popup = f'{damage_maxprob}, {max_prob*100}% probability'\n",
    "        ).add_to(maps)\n",
    "    \n",
    "maps.save(f'{output_dirs}/{loc_name} Folium Map.html')"
   ]
  },
  {
   "cell_type": "code",
   "execution_count": null,
   "id": "654aa5b8",
   "metadata": {},
   "outputs": [],
   "source": []
  }
 ],
 "metadata": {
  "kernelspec": {
   "display_name": "Python 3 (ipykernel)",
   "language": "python",
   "name": "python3"
  },
  "language_info": {
   "codemirror_mode": {
    "name": "ipython",
    "version": 3
   },
   "file_extension": ".py",
   "mimetype": "text/x-python",
   "name": "python",
   "nbconvert_exporter": "python",
   "pygments_lexer": "ipython3",
   "version": "3.9.18"
  }
 },
 "nbformat": 4,
 "nbformat_minor": 5
}
